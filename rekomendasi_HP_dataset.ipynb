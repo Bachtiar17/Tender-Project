{
 "cells": [
  {
   "cell_type": "code",
   "execution_count": 1,
   "metadata": {},
   "outputs": [],
   "source": [
    "import pandas as pd"
   ]
  },
  {
   "cell_type": "code",
   "execution_count": 2,
   "metadata": {},
   "outputs": [],
   "source": [
    "df = pd.read_csv('Preprocessing.csv', error_bad_lines=False, warn_bad_lines=False)"
   ]
  },
  {
   "cell_type": "code",
   "execution_count": 3,
   "metadata": {},
   "outputs": [],
   "source": [
    "hps_number=[]\n",
    "for i in df['hps']:\n",
    "    if \"M\" in i:\n",
    "        #print(i)\n",
    "        i=i.replace(\" M\", \"\").replace(',','.')\n",
    "        new_value=float(i)*1000000000\n",
    "        #print(new_value)\n",
    "        hps_number.append(new_value)\n",
    "    elif \"Jt\" in i:\n",
    "        #print(i)\n",
    "        i=i.replace(\" Jt\", \"\").replace(',','.')\n",
    "        new_value=float(i)*1000000\n",
    "        #print(new_value)\n",
    "        hps_number.append(new_value)\n",
    "    else:\n",
    "        #print(i)\n",
    "        i=i.replace(\" T\", \"\").replace(',','.')\n",
    "        new_value=float(i)*1000000000000\n",
    "        #print(new_value)\n",
    "        hps_number.append(new_value)"
   ]
  },
  {
   "cell_type": "code",
   "execution_count": 4,
   "metadata": {},
   "outputs": [],
   "source": [
    "df['penawaran_pemenang'].fillna('0', inplace=True)\n",
    "penawaran_pemenang_number=[]\n",
    "for i in df['penawaran_pemenang']:\n",
    "    if \"Rp \" in i:\n",
    "        #print(i)\n",
    "        for a in range (1,99):\n",
    "            i=i.replace(\"Rp \", \"\").replace(',00','').replace(','+str(a),'').replace('.','').replace(',0'+str(a),'')\n",
    "        new_value=float(i)\n",
    "        #print(new_value)\n",
    "        penawaran_pemenang_number.append(new_value)\n",
    "    else:\n",
    "        #print(i)\n",
    "        new_value=0\n",
    "        #print(new_value)\n",
    "        penawaran_pemenang_number.append(new_value)\n",
    "        "
   ]
  },
  {
   "cell_type": "code",
   "execution_count": 5,
   "metadata": {},
   "outputs": [],
   "source": [
    "df.rename(columns = {'8':'kategori','6':'metode pemilihan','7':'metode evaluasi', '5':'metode pascakualifikasi'}, inplace = True)"
   ]
  },
  {
   "cell_type": "code",
   "execution_count": 6,
   "metadata": {},
   "outputs": [],
   "source": [
    "df['hps_number'] = hps_number\n",
    "df['penawaran_pemenang_number']= penawaran_pemenang_number"
   ]
  },
  {
   "cell_type": "code",
   "execution_count": 7,
   "metadata": {},
   "outputs": [],
   "source": [
    "rekomendasi_harga_penawaran=[]\n",
    "for i in df['hps_number']:\n",
    "    rerata=i*0.9074276736181875\n",
    "    rekomendasi_harga_penawaran.append(rerata)"
   ]
  },
  {
   "cell_type": "code",
   "execution_count": 8,
   "metadata": {},
   "outputs": [],
   "source": [
    "df['rekomendasi_harga_penawaran']=rekomendasi_harga_penawaran"
   ]
  },
  {
   "cell_type": "code",
   "execution_count": 10,
   "metadata": {},
   "outputs": [],
   "source": [
    "df.to_csv('data update.csv')"
   ]
  },
  {
   "cell_type": "code",
   "execution_count": null,
   "metadata": {},
   "outputs": [],
   "source": []
  },
  {
   "cell_type": "code",
   "execution_count": null,
   "metadata": {},
   "outputs": [],
   "source": []
  }
 ],
 "metadata": {
  "kernelspec": {
   "display_name": "Python 3",
   "language": "python",
   "name": "python3"
  },
  "language_info": {
   "codemirror_mode": {
    "name": "ipython",
    "version": 3
   },
   "file_extension": ".py",
   "mimetype": "text/x-python",
   "name": "python",
   "nbconvert_exporter": "python",
   "pygments_lexer": "ipython3",
   "version": "3.7.3"
  }
 },
 "nbformat": 4,
 "nbformat_minor": 2
}
